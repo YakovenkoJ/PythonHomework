{
  "nbformat": 4,
  "nbformat_minor": 0,
  "metadata": {
    "colab": {
      "provenance": []
    },
    "kernelspec": {
      "name": "python3",
      "display_name": "Python 3"
    },
    "language_info": {
      "name": "python"
    }
  },
  "cells": [
    {
      "cell_type": "markdown",
      "source": [
        "##Условие 2:\n",
        "###На складе лежат разные фрукты в разном количестве. Нужно написать функцию, которая на вход принимает любое количество названий фруктов и их количество, а возвращает общее количество фруктов на складе."
      ],
      "metadata": {
        "id": "Kazmc9kRgL0G"
      }
    },
    {
      "cell_type": "code",
      "source": [
        "fruits = ['apples', 'pears', 'plums', 'babanas', 'oranges']\n",
        "quantity = [10, 3, 157, 15, 11]"
      ],
      "metadata": {
        "id": "I0fInLKlg0NT"
      },
      "execution_count": 26,
      "outputs": []
    },
    {
      "cell_type": "code",
      "source": [
        "def count_qnt(list1: list, list2: list) -> int:\n",
        "  data = {}\n",
        "  for i in range(0, len(list1)):\n",
        "    data[list1[i]] = list2[i]\n",
        "  total_qnt = sum(data.values())\n",
        "  return total_qnt\n",
        "\n",
        "print(f\"Total quantity of fruits at warehouse is {count_qnt(fruits, quantity)}.\")"
      ],
      "metadata": {
        "colab": {
          "base_uri": "https://localhost:8080/"
        },
        "id": "5Hj6ZjycmtBX",
        "outputId": "6e5b1fff-3ddd-4f2f-8bc2-aa1039b4b405"
      },
      "execution_count": 27,
      "outputs": [
        {
          "output_type": "stream",
          "name": "stdout",
          "text": [
            "Total quantity of fruits at warehouse is 196.\n"
          ]
        }
      ]
    },
    {
      "cell_type": "markdown",
      "source": [
        "##Условие 3:\n",
        "###Дан список с затратами на рекламу. Но в данных есть ошибки, некоторые затраты имеют отрицательную величину. Удалите такие значения из списка и посчитайте суммарные затраты.\n",
        "###Используйте list comprehensions."
      ],
      "metadata": {
        "id": "m75NyO-qnmmw"
      }
    },
    {
      "cell_type": "code",
      "source": [
        "charges = [100, 125, -90, 345, 655, -1, 0, 200]"
      ],
      "metadata": {
        "id": "jpyPZyNOn143"
      },
      "execution_count": 28,
      "outputs": []
    },
    {
      "cell_type": "code",
      "source": [
        "data_corrected = sum([i if i > 0 else 0 for i in charges])\n",
        "\n",
        "print(f\"Total charges on advertisement are {data_corrected}.\")"
      ],
      "metadata": {
        "colab": {
          "base_uri": "https://localhost:8080/"
        },
        "id": "41bTuMI1oWzl",
        "outputId": "376eb916-56a4-49f5-a847-5c2840041903"
      },
      "execution_count": 29,
      "outputs": [
        {
          "output_type": "stream",
          "name": "stdout",
          "text": [
            "Total charges on advertisement are 1425.\n"
          ]
        }
      ]
    },
    {
      "cell_type": "markdown",
      "source": [
        "##Условие 4:\n",
        "###Даны два списка:"
      ],
      "metadata": {
        "id": "mdgA8b0yrVv8"
      }
    },
    {
      "cell_type": "code",
      "source": [
        "date = ['2021-09-14', '2021-12-15', '2021-09-08', '2021-12-05', '2021-10-09', '2021-09-30', '2021-12-22', '2021-11-29', '2021-12-24',\n",
        "        '2021-11-26', '2021-10-27', '2021-12-18', '2021-11-09', '2021-11-23', '2021-09-27', '2021-10-02', '2021-12-27', '2021-09-20',\n",
        "        '2021-12-13', '2021-11-01', '2021-11-09', '2021-12-06', '2021-12-08', '2021-10-09', '2021-10-31', '2021-09-30', '2021-11-09',\n",
        "        '2021-12-13', '2021-10-26', '2021-12-09']\n",
        "amount = [1270, 8413, 9028, 3703, 5739, 4095, 295, 4944, 5723, 3701, 4471, 651, 7037, 4274, 6275, 4988, 6930, 2971, 6592, 2004, 2822,\n",
        "          519, 3406, 2732, 5015, 2008, 316, 6333, 5700, 2887]"
      ],
      "metadata": {
        "id": "iFVRKnPSrq3E"
      },
      "execution_count": 30,
      "outputs": []
    },
    {
      "cell_type": "markdown",
      "source": [
        "###4.1 Найдите, какая выручка у компании в ноябре.\n",
        "###Используйте list comprehensions."
      ],
      "metadata": {
        "id": "ym8gcrVCr5_j"
      }
    },
    {
      "cell_type": "code",
      "source": [
        "income = sum(amount[i] for i in range(len(date)) if '-11-' in date[i])\n",
        "print(f\"Total income in November is {income}.\")"
      ],
      "metadata": {
        "colab": {
          "base_uri": "https://localhost:8080/"
        },
        "id": "gL78NBnvmBt7",
        "outputId": "e1804463-9177-4730-fb36-33d4ab38a306"
      },
      "execution_count": 31,
      "outputs": [
        {
          "output_type": "stream",
          "name": "stdout",
          "text": [
            "Total income in November is 25098.\n"
          ]
        }
      ]
    },
    {
      "cell_type": "markdown",
      "source": [
        "###4.2 Найдите выручку компании в зависимости от месяца. Для этого напишите функцию, которая на вход принимает список с датами и список с выручкой, а на выходе словарь, где ключи - это месяцы, а значения - это выручка.\n",
        "###Используйте аннотирование типов."
      ],
      "metadata": {
        "id": "82AQz9uns7nL"
      }
    },
    {
      "cell_type": "code",
      "source": [
        "def count_income(list1: list, list2: list) -> dict:\n",
        "  data = {}\n",
        "  for i in range(len(list1)):\n",
        "    month = list1[i][5:7]\n",
        "    if month in data:\n",
        "      data[month] += list2[i]\n",
        "    else:\n",
        "      data[month] = list2[i]\n",
        "      data = dict(sorted(data.items()))\n",
        "  return data\n",
        "\n",
        "income_data = count_income(date, amount)\n",
        "income_data"
      ],
      "metadata": {
        "colab": {
          "base_uri": "https://localhost:8080/"
        },
        "id": "q4SL55uPYeNv",
        "outputId": "3d93aa50-ad91-4e49-c8d1-7722b5b3a06e"
      },
      "execution_count": 33,
      "outputs": [
        {
          "output_type": "execute_result",
          "data": {
            "text/plain": [
              "{'09': 25647, '10': 28645, '11': 25098, '12': 45452}"
            ]
          },
          "metadata": {},
          "execution_count": 33
        }
      ]
    }
  ]
}